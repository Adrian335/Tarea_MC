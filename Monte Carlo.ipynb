{
 "cells": [
  {
   "cell_type": "code",
   "execution_count": 5,
   "metadata": {},
   "outputs": [],
   "source": [
    "from scipy import random\n",
    "from math import sqrt, pi\n",
    "import numpy as np\n",
    "import matplotlib.pyplot as plt\n",
    "from scipy.integrate import quad"
   ]
  },
  {
   "cell_type": "markdown",
   "metadata": {},
   "source": [
    "# Función densidad de probabilidad\n",
    "\n",
    "La fdp que decidí utilizar es la distribución uniforme. \n",
    "\n",
    "$\\textbf{La distribución uniforme:}$ Describe resultados de experimentos aleatorios donde los todos los valores medidos de una variable aleatoria entre el menor valor $a$  y el mayor valor $b$ son igualmente probables. \n",
    "\n",
    "$f(x) = \\dfrac{1}{b-a}$ para $a\\leq x \\leq b$\n",
    "\n",
    "$f(x)=0$ en otro lugar\n",
    "\n",
    "$\\textbf{Media:}$ $\\dfrac{a+b}{2}$\n",
    "\n",
    "$\\textbf{Varianza:}$ $\\dfrac{(b-a)^2}{12}$\n",
    "\n",
    "$\\textbf{Desviación estándar:}$ $\\dfrac{b-a}{\\sqrt{12}}$\n",
    "\n",
    "# Método de Montecarlo\n",
    "\n",
    "Teniendo la función densidad de probabilidad, procedemos a definir la integral por el método MC.\n",
    "\n",
    "$I=\\dfrac{1}{N}\\sum_{i=1}^{N}\\dfrac{F(x)}{f(x)}$ \n",
    "\n",
    "Donde $F(x)$ es la función que se desea integrar. Dada la elección de la fdp uniforme $(f(x))$, tenemos entonces:\n",
    "\n",
    "\n",
    "$I=\\dfrac{(b-a)}{N}\\sum_{i=1}^{N}F(x)$ \n"
   ]
  },
  {
   "cell_type": "markdown",
   "metadata": {},
   "source": [
    "# 1\n",
    "\n",
    "$\\displaystyle\\int_{0}^{10} (x^2 - 4)dx$"
   ]
  },
  {
   "cell_type": "code",
   "execution_count": 33,
   "metadata": {},
   "outputs": [],
   "source": [
    "N=1500000 #número de puntos \n",
    "\n",
    "a=0\n",
    "b=10\n",
    "\n",
    "#Definimos la función a integrar \n",
    "\n",
    "\n",
    "\n",
    "def f(x):\n",
    "    return (x**2 -4)\n",
    "\n",
    "#La función densidad de probabilidad será la uniforme\n",
    "\n",
    "def p(a,b):\n",
    "    return 1/(b-a)    "
   ]
  },
  {
   "cell_type": "code",
   "execution_count": 20,
   "metadata": {},
   "outputs": [],
   "source": [
    "#Creamos el contador\n",
    "\n",
    "E=0\n",
    "\n",
    "for i in range(N):\n",
    "    point = random.uniform(a,b)\n",
    "    E += f(point)\n",
    "I=E/(p(a,b)*N) # Valor de la integral por MC\n",
    "\n",
    "#Estimemos el error (Desviación estándar)\n",
    "\n",
    "Error = (b-a)/sqrt(12*N)"
   ]
  },
  {
   "cell_type": "code",
   "execution_count": 25,
   "metadata": {},
   "outputs": [
    {
     "name": "stdout",
     "output_type": "stream",
     "text": [
      "El valor de la integral definida  por el MC es:      293.289883 +- 0.002357\n",
      "El valor teórico de la integral definida es: 293.333333\n"
     ]
    }
   ],
   "source": [
    "It = quad(f, 0, 10) # Valor teórico de la integral\n",
    "\n",
    "\n",
    "print(f\"El valor de la integral definida  por el MC es:      {I:4f} +- {Error:4f}\")\n",
    "print(f\"El valor teórico de la integral definida es: {It[0]:4f}\")"
   ]
  },
  {
   "cell_type": "markdown",
   "metadata": {},
   "source": [
    "# 2\n",
    "\n",
    "$\\displaystyle\\int_{0.5}^{1.7} sin^2(x)dx$"
   ]
  },
  {
   "cell_type": "code",
   "execution_count": 26,
   "metadata": {},
   "outputs": [],
   "source": [
    "def F(x): #\n",
    "    return np.sin(x)**2 "
   ]
  },
  {
   "cell_type": "code",
   "execution_count": 31,
   "metadata": {},
   "outputs": [],
   "source": [
    "#Para la siguiente función \n",
    "\n",
    "a1 = 0.5\n",
    "b1= 1.7\n",
    "\n",
    "\n",
    "#Creamos el contador\n",
    "\n",
    "E1=0\n",
    "\n",
    "for i in range(N):\n",
    "    point1 = random.uniform(a1,b1)\n",
    "    E1 += F(point1)\n",
    "I1=E1/(p(a1,b1)*N)\n",
    "\n",
    "Error1 = (b1-a1)/sqrt(12*N)"
   ]
  },
  {
   "cell_type": "code",
   "execution_count": 32,
   "metadata": {},
   "outputs": [
    {
     "name": "stdout",
     "output_type": "stream",
     "text": [
      "El valor de la integral definida  por el MC es:      0.874394 +- 0.000283\n",
      "El valor teórico de la integral definida es: 0.874253\n"
     ]
    }
   ],
   "source": [
    "It1 = quad(F, 0.5, 1.7)\n",
    "\n",
    "print(f\"El valor de la integral definida  por el MC es:      {I1:4f} +- {Error1:4f}\")\n",
    "print(f\"El valor teórico de la integral definida es: {It1[0]:4f}\")"
   ]
  }
 ],
 "metadata": {
  "kernelspec": {
   "display_name": "Python 3",
   "language": "python",
   "name": "python3"
  },
  "language_info": {
   "codemirror_mode": {
    "name": "ipython",
    "version": 3
   },
   "file_extension": ".py",
   "mimetype": "text/x-python",
   "name": "python",
   "nbconvert_exporter": "python",
   "pygments_lexer": "ipython3",
   "version": "3.6.9"
  }
 },
 "nbformat": 4,
 "nbformat_minor": 4
}
